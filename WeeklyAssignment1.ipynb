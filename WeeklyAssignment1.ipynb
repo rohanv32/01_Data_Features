{
  "nbformat": 4,
  "nbformat_minor": 0,
  "metadata": {
    "colab": {
      "provenance": [],
      "include_colab_link": true
    },
    "kernelspec": {
      "name": "python3",
      "display_name": "Python 3"
    },
    "language_info": {
      "name": "python"
    }
  },
  "cells": [
    {
      "cell_type": "markdown",
      "metadata": {
        "id": "view-in-github",
        "colab_type": "text"
      },
      "source": [
        "<a href=\"https://colab.research.google.com/github/rohanv32/01_Data_Features/blob/main/WeeklyAssignment1.ipynb\" target=\"_parent\"><img src=\"https://colab.research.google.com/assets/colab-badge.svg\" alt=\"Open In Colab\"/></a>"
      ]
    },
    {
      "cell_type": "markdown",
      "source": [
        "# **Flight Delay Predictor - Weather and Flight Status Checker**\n",
        "\n",
        "This Jupyter notebook demonstrates the creation of a simple prototype that helps users check flight statuses and determine if weather conditions might cause delays.\n",
        "\n",
        "## **Features**\n",
        "- Retrieves flight status using the **AviationStack API**.\n",
        "- Fetches weather data for a specified city using the **Visual Crossing Weather API**.\n",
        "- Analyzes weather conditions such as precipitation probability, wind speed, and general conditions to determine if the weather might impact flight delays.\n",
        "- Displays the flight status and informs the user if bad weather conditions are likely to cause delays.\n",
        "\n",
        "## **Prerequisites**\n",
        "To run this notebook, you need to set up API keys for:\n",
        "- **AviationStack API** (for retrieving flight status information)\n",
        "- **Visual Crossing Weather API** (for fetching weather data)\n"
      ],
      "metadata": {
        "id": "smAVu7CstCzW"
      }
    },
    {
      "cell_type": "code",
      "source": [
        "import requests\n",
        "from google.colab import userdata\n",
        "\n",
        "#Here is where the API keys are retrieved.\n",
        "aviationstack_api_key = userdata.get(\"AVIATIONSTACK_API_KEY\")\n",
        "visualcrossing_api_key = userdata.get(\"VISUALCROSSING_API_KEY\")\n",
        "\n",
        "if aviationstack_api_key:\n",
        "    print(\"The AviationStack API key has been retrieved successfully!\")\n",
        "else:\n",
        "    print(\"Failed to retrieve the AviationStack API key.\")\n",
        "\n",
        "if visualcrossing_api_key:\n",
        "    print(\"The VisualStack API key has been retrieved successfully!\")\n",
        "else:\n",
        "    print(\"Failed to retrieve the VisualStack API key.\")"
      ],
      "metadata": {
        "id": "8N7MpXEmioGU",
        "colab": {
          "base_uri": "https://localhost:8080/"
        },
        "outputId": "ff103c40-59c2-4f94-965a-9525f0926409"
      },
      "execution_count": null,
      "outputs": [
        {
          "output_type": "stream",
          "name": "stdout",
          "text": [
            "The AviationStack API key has been retrieved successfully!\n",
            "The VisualStack API key has been retrieved successfully!\n"
          ]
        }
      ]
    },
    {
      "cell_type": "markdown",
      "source": [
        "## Bad Weather Detection Function\n",
        "\n",
        "- The is_bad_weather function determines if the weather is considered adverse based on specified criteria. It evaluates the probability of precipitation, wind speed, and the presence of keywords like 'rain' or 'snow' in the weather conditions. If any of these conditions exceed their respective thresholds, the function returns True, indicating bad weather; otherwise, it returns False."
      ],
      "metadata": {
        "id": "czFfW-fFvbST"
      }
    },
    {
      "cell_type": "code",
      "source": [
        "def is_bad_weather(precip_prob, wind_speed, conditions):\n",
        "    # Here, we define thresholds for bad weather based on specific weather conditions.\n",
        "    if precip_prob > 50 or wind_speed > 20 or 'rain' in conditions.lower() or 'snow' in conditions.lower():\n",
        "        return True\n",
        "    return False"
      ],
      "metadata": {
        "id": "OEy78zoyivzp"
      },
      "execution_count": null,
      "outputs": []
    },
    {
      "cell_type": "markdown",
      "source": [
        "- When prompted, enter:\n",
        "  - A **flight number** (e.g., `DL1087`)."
      ],
      "metadata": {
        "id": "xk6gYQY9vwaZ"
      }
    },
    {
      "cell_type": "code",
      "source": [
        "#Getting the user's input for the flight number.\n",
        "flight_number = input(\"Enter the flight number (e.g., EK5): \")"
      ],
      "metadata": {
        "colab": {
          "base_uri": "https://localhost:8080/"
        },
        "id": "M6Q1oEfdphfo",
        "outputId": "18f73267-65a6-4f0b-8207-c589457a2190"
      },
      "execution_count": null,
      "outputs": [
        {
          "name": "stdout",
          "output_type": "stream",
          "text": [
            "Enter the flight number (e.g., EK5): KL907\n"
          ]
        }
      ]
    },
    {
      "cell_type": "markdown",
      "source": [
        "## Flight Status and Weather Information Retrieval\n",
        "\n",
        "- The code constructs a URL to access flight status data from the AviationStack API, using the flight number and API key. It sends a GET request to fetch the flight data and parses the JSON response. If flight data is available, it extracts the flight status, departure city, and arrival city, then prints this information.\n",
        "\n",
        "- For the departure city, we then fetch current weather details using the fetch_weather function. The code prints weather conditions, precipitation probability, and wind speed. It then checks if the weather is considered bad using the is_bad_weather function and prints a corresponding message if necessary.\n",
        "\n",
        "- Similarly, for the arrival city, the code fetches weather details, prints the conditions, and checks for bad weather. It also evaluates if the flight status could be impacted by the weather at the arrival city, providing a relevant message if the flight is delayed or on time.\n",
        "\n",
        "- If no flight data is available, a message indicating this is printed.\n",
        "\n",
        "\n",
        "\n"
      ],
      "metadata": {
        "id": "enzmZNwxwaV0"
      }
    },
    {
      "cell_type": "code",
      "source": [
        "#Fetching the flight's current status from the AviationStack API\n",
        "flight_url = f\"http://api.aviationstack.com/v1/flights?access_key={aviationstack_api_key}&flight_iata={flight_number}\"\n",
        "flight_response = requests.get(flight_url)\n",
        "flight_data = flight_response.json()\n",
        "\n",
        "if flight_data['data']:\n",
        "    flight_info = flight_data['data'][0]\n",
        "\n",
        "    flight_status = flight_info['flight_status']\n",
        "\n",
        "\n",
        "    departure_city = flight_info['departure']['airport']\n",
        "    arrival_city = flight_info['arrival']['airport']\n",
        "\n",
        "    print(f\"\\nFlight Status for {flight_number}: {flight_status}\")\n",
        "    print(f\"Departure City: {departure_city}\")\n",
        "    print(f\"Arrival City: {arrival_city}\")\n",
        "\n",
        "    #This block deals with fetching and displaying weather details for the departure city.\n",
        "    departure_weather = fetch_weather(departure_city)\n",
        "    if departure_weather:\n",
        "        dep_conditions = departure_weather['days'][0]['conditions']\n",
        "        dep_precip_prob = departure_weather['days'][0]['precipprob']\n",
        "        dep_wind_speed = departure_weather['days'][0]['windspeed']\n",
        "\n",
        "        print(f\"\\nWeather in {departure_city}: {dep_conditions}\")\n",
        "        print(f\"Precipitation Probability: {dep_precip_prob}%\")\n",
        "        print(f\"Wind Speed: {dep_wind_speed} mph\")\n",
        "\n",
        "        if is_bad_weather(dep_precip_prob, dep_wind_speed, dep_conditions):\n",
        "            print(f\"Bad weather detected in {departure_city}.\")\n",
        "\n",
        "  #Similarly, this block fetches and displays weather details for the arrival city.\n",
        "    arrival_weather = fetch_weather(arrival_city)\n",
        "    if arrival_weather:\n",
        "        arr_conditions = arrival_weather['days'][0]['conditions']\n",
        "        arr_precip_prob = arrival_weather['days'][0]['precipprob']\n",
        "        arr_wind_speed = arrival_weather['days'][0]['windspeed']\n",
        "\n",
        "        print(f\"\\nWeather in {arrival_city}: {arr_conditions}\")\n",
        "        print(f\"Precipitation Probability: {arr_precip_prob}%\")\n",
        "        print(f\"Wind Speed: {arr_wind_speed} mph\")\n",
        "\n",
        "        if is_bad_weather(arr_precip_prob, arr_wind_speed, arr_conditions):\n",
        "            print(f\"Bad weather detected in {arrival_city}.\")\n",
        "            if flight_status == 'delayed':\n",
        "                print(\"The flight is already delayed, and weather at the arrival city might be a factor.\")\n",
        "            else:\n",
        "                print(\"The flight is currently on time, but bad weather at the arrival city might cause a delay.\")\n",
        "else:\n",
        "    print(f\"No flight data available for flight {flight_number}.\")"
      ],
      "metadata": {
        "colab": {
          "base_uri": "https://localhost:8080/"
        },
        "id": "W6ta8Jd5iya1",
        "outputId": "6234ba6a-d7bc-44d5-9085-007f95cb0d44"
      },
      "execution_count": null,
      "outputs": [
        {
          "output_type": "stream",
          "name": "stdout",
          "text": [
            "\n",
            "Flight Status for KL907: scheduled\n",
            "Departure City: Schiphol\n",
            "Arrival City: Inverness\n",
            "\n",
            "Weather in Schiphol: Rain, Partially cloudy\n",
            "Precipitation Probability: 100.0%\n",
            "Wind Speed: 23.0 mph\n",
            "Bad weather detected in Schiphol.\n",
            "\n",
            "Weather in Inverness: Rain, Partially cloudy\n",
            "Precipitation Probability: 100.0%\n",
            "Wind Speed: 15.9 mph\n",
            "Bad weather detected in Inverness.\n",
            "The flight is currently on time, but bad weather at the arrival city might cause a delay.\n"
          ]
        }
      ]
    }
  ]
}